{
 "cells": [
  {
   "cell_type": "markdown",
   "metadata": {},
   "source": [
    "## Presentación\n",
    "\n",
    "Estos ejercicios tienen el fin de poder evaluar la situación en la que se encuentra cada unx de ustedes a esta altura de la materia. No es un examen, ni llevará ningún tipo de nota.\n",
    "\n",
    "Les pedimos que respeten al pie de la letra el nombre de las funciones que les damos para completar y su \"signature\". Esto es, que respeten los argumentos de entrada y la salida. Esto es porque tenemos una forma de verificación automática que de otra manera no funciona. Cuando hayamos recibido los notebooks, haremos público el código de control.\n",
    "\n",
    "Por supuesto, si quieren agregar celdas y más código, si quieren hacer pruebas para asegurarse de que el código funciona, etc., pueden hacerlo aquí mismo.\n",
    "\n",
    "La _modalidad de entrega preferencial_ es a través de GitHub:\n",
    "1. Hacer un fork del [repositorio](https://github.com/exord/UNSAM_IA), tocando el botón de arriba a la derecha (ver figura). \n",
    "\n",
    "2. Crear un subdirectorio dentro del directorio <tt>entregas</tt> con el formato \"ApellidoNombre\"\n",
    "3. Completar este notebook y colocarlo en ese directorio. Hacer un \"commit\" y un \"push\" a su versión del repositorio.\n",
    "4. Realizar un <tt>pull request</tt> desde GitHub y seguir las instrucciones. Más información en la [página de GitHub](https://help.github.com/en/github/collaborating-with-issues-and-pull-requests/about-pull-requests).\n",
    "\n",
    "De ser necesario, en caso de sufrir de **alergia severa a GitHub**, el notebook puede enviarse por email.\n",
    "\n",
    "La **fecha límite** para la entrega es el **martes 21 de abril a las 20 horas**.\n",
    "\n",
    "<figure>\n",
    "    <img src=\"figures/fork_pullrequest.jpeg\", alt=\"Fork\", width=\"800px\", \n",
    "         style=\"float: left; margin-right: 10px;\"/>\n",
    "    \n",
    "     <figcaption>Fig.1 - Ubicación de los botones para Fork y Pull request en Github.</figcaption>\n",
    "</figure>"
   ]
  },
  {
   "cell_type": "markdown",
   "metadata": {
    "colab_type": "text",
    "id": "xQGJAaz9My8p"
   },
   "source": [
    "## 1. Probabilidad Condicional"
   ]
  },
  {
   "cell_type": "code",
   "execution_count": 0,
   "metadata": {
    "colab": {},
    "colab_type": "code",
    "id": "UV8ZHtWoMWVd"
   },
   "outputs": [],
   "source": [
    "#Si estas en Google Colab, ejecuta esta celda una unica vez:\n",
    "!mkdir datasets\n",
    "!mkdir datasets/student-alcohol-consumption\n",
    "!wget https://raw.githubusercontent.com/exord/UNSAM_IA/master/datasets/student-alcohol-consumption/student-mat.csv\n",
    "!mv student-mat.csv datasets/student-alcohol-consumption/student-mat.csv"
   ]
  },
  {
   "cell_type": "markdown",
   "metadata": {
    "colab_type": "text",
    "id": "MDyX2WNDM1fC"
   },
   "source": [
    "Similar al ***Caso: Apruebo si falto a clase?*** del [notebook de probabilidad condicional](02_Condicional.ipynb), calcule la probabilidad de que un alumno haya faltado menos de 3 veces dado que sacó más de un 60% en la materia, i.e.\n",
    "$$\n",
    "P( \\text{absences} < 3 | \\text{G3} \\geq 12).\n",
    "$$\n",
    "\n",
    "Por favor, utilice el siguiente signature. Se recomienda cambiar el código solamente entre los comentarios \"Start\" y \"Finish\". \n",
    "Si quiere probar cosas, siéntase libre de crear nuevas celdas de código, aunque estas no serán evaluadas."
   ]
  },
  {
   "cell_type": "code",
   "execution_count": 1,
   "metadata": {
    "colab": {},
    "colab_type": "code",
    "id": "kgp3Px1JNFbA"
   },
   "outputs": [],
   "source": [
    "import numpy as np\n",
    "import pandas as pd\n",
    "\n",
    "def prob_condicional(df=pd.read_csv('datasets/student-alcohol-consumption/student-mat.csv')):\n",
    "    \n",
    "    \"\"\"Calcula P(absences < 3 | G3 >= 12).\n",
    "\n",
    "    Input:\n",
    "    df -- dataset de estudiantes\n",
    "\n",
    "    Output:\n",
    "    p        -- probabilidad de que absences > 3 dado que G3 >= 12\n",
    "    \"\"\"\n",
    "    \n",
    "    df['aprueba'] = np.where(df['G3'] >= 12, 1, 0)\n",
    "    df['faltaPoco'] = np.where(df['absences'] < 3, 1, 0)\n",
    "    df['aprueba y faltaPoco'] = df['aprueba'] * df['faltaPoco']\n",
    "    numero_estudiantes = df.shape[0] - 1                           #Lo entiendo como el numero de filas que no son los de las categorias\n",
    "    estudiantes_que_cumplen = np.sum(df['aprueba y faltaPoco'])\n",
    "    \n",
    "  #guarda el valor final, como un número, en esta variable\n",
    "    resultado = estudiantes_que_cumplen/numero_estudiantes\n",
    "    \n",
    "  #Finish\n",
    "    return resultado"
   ]
  },
  {
   "cell_type": "markdown",
   "metadata": {
    "colab_type": "text",
    "id": "laC3JpLHOx-h"
   },
   "source": [
    "## 2. Inferencia Bayesiana"
   ]
  },
  {
   "cell_type": "markdown",
   "metadata": {
    "colab_type": "text",
    "id": "dfG9aID6_CLD"
   },
   "source": [
    "Se tira una moneda N veces, de las cuales X sale cara. La moneda sale cara con una frecuencia $\\mu$ desconocida, pero que se cree que es *fair*. \n",
    "\n",
    "Construya una función que recibe el vector con los N resultados (1: cara, 0: seca) y con él calcule tanto el posterior del parámetro $\\mu$ como la probabilidad de que $\\mu>0.7$. Use como prior una distribución normal con media 0.5 y desviación estandar 0.1 ($\\mathcal{N}(0.5,0.1)$)\n",
    "\n",
    "Por favor, utilice el siguiente signature. Se recomienda cambiar el código solamente entre los comentarios \"Start\" y \"Finish\". \n",
    "Si quiere probar cosas, siéntase libre de crear nuevas celdas de código, aunque estas no serán evaluadas.\n",
    "\n",
    "<b>Ayuda</b>: usar los métodos <tt>pdf</tt> y <tt>pmf</tt> de las clases de <tt>scipy.stats</tt> que se importan al principio de la celda. Revisar también los notebooks de [teoría](03_Inferencia.ipynb) y [práctica](03p_Inferencia_Soluciones.ipynb) que se presentaron en clase."
   ]
  },
  {
   "cell_type": "code",
   "execution_count": 56,
   "metadata": {
    "colab": {},
    "colab_type": "code",
    "id": "-NY1kRNs1GnH"
   },
   "outputs": [],
   "source": [
    "import numpy as np\n",
    "from scipy.stats import binom, norm\n",
    "\n",
    "def inferencia_moneda(tiradas, seed=123):\n",
    "    \"\"\"Realiza inferencia bayesiana en el parametro mu de una moneda.\n",
    "\n",
    "    Input:\n",
    "    tiradas -- Resultado de N tiradas\n",
    "    seed    -- Semilla para np.random (default=123)\n",
    "\n",
    "    Output:\n",
    "    p        -- probabilidad de que mu>0.7\n",
    "    posterior-- posterior de mu, shape=(100,)\n",
    "    \"\"\"\n",
    "    np.random.seed(seed)\n",
    "    mu, step = np.linspace(0,1, num = 100, retstep = True) #step es el espacio entre puntos\n",
    "\n",
    "    #Numero de tiradas, y de veces que salio cara\n",
    "    N = len(tiradas)\n",
    "    X = np.sum(tiradas)\n",
    "\n",
    "    #Start\n",
    "    prior = norm.pdf(mu, loc = 0.5, scale = 0.1)          #Esto es el prior evaluado en el vector mu\n",
    "    verosimilitud = binom.pmf(X, N, mu)                     #La verosimilitud evaluada en el vector mu\n",
    "    posterior = prior * verosimilitud                     #El posterior no normalizado\n",
    "    evidencia = np.sum(posterior) * step                  #Evidencia o verosimilitud marginalizada\n",
    "    posterior = posterior / evidencia                     #Normalizamos para obtener el posterior\n",
    "    \n",
    "    # Probabilidad de mu > a 0.7\n",
    "    p_where = np.where(mu > 0.7, 1, 0)\n",
    "    p = np.sum(posterior * p_where) * step                # np.sum(**where) esta recien en numpy v1.17\n",
    "    \n",
    "  #Finish\n",
    "    assert len(posterior) == len(mu), \"Tamaño del posterior distinto al de mu\"\n",
    "    return p, np.array(posterior)\n"
   ]
  },
  {
   "cell_type": "markdown",
   "metadata": {
    "colab_type": "text",
    "id": "koZhGjvgO4uo"
   },
   "source": [
    "## 3. Regresión Lineal"
   ]
  },
  {
   "cell_type": "markdown",
   "metadata": {
    "colab_type": "text",
    "id": "TLYPUIQrPMgk"
   },
   "source": [
    "Construye una función que dado un input (X_train, Y_train) realice un ajuste lineal de cuadrados mínimos, y con ello devuelva las predicciones para el input X_test como un vector Y_test.\n",
    "\n",
    "Por favor, utilice el siguiente signature. Se recomienda cambiar el código solamente entre los comentarios \"Start\" y \"Finish\". \n",
    "Si quiere probar cosas, siéntase libre de crear nuevas celdas de código, aunque estas no serán evaluadas.\n",
    "\n",
    "<b>Ayuda</b>: pueden usar la implementación de las ecuaciones normales que aparece en el notebook de [modelos lineales](05_ModelosLineales.ipynb) o las clases del módulo <tt>sklearn.linear_model</tt>."
   ]
  },
  {
   "cell_type": "code",
   "execution_count": 260,
   "metadata": {
    "colab": {},
    "colab_type": "code",
    "id": "NavUqiDhPLx-"
   },
   "outputs": [],
   "source": [
    "import numpy as np\n",
    "\n",
    "\"\"\" Calcula un ajuste lineal.\n",
    "\n",
    "    Input:\n",
    "    X_train -- datos de entrenamiento, shape=(N,1)\n",
    "    Y_train -- etiquetas de entrenamiento, shape=(N,1)\n",
    "    X_test  -- datos de testeo, shape=(N_test,1)\n",
    "\n",
    "    Output:\n",
    "    Y_test  -- prediccion de etiquetas para X_test, shape=(N_test,1)\"\"\"\n",
    "    \n",
    "\n",
    "def ajuste_lineal(X_train, Y_train, X_test):\n",
    "    N = len(X_train)\n",
    "    N_test = len(X_test)\n",
    "    \n",
    "    shape = (N, 1)\n",
    "    shape2 = (N_test, 1)\n",
    "    \n",
    "    #Start\n",
    "    x = X_train.reshape(shape)             #reshape del X_train para armar phi\n",
    "    _1 = np.ones(shape)                    #armo un vector columna de unos\n",
    "    phi = np.hstack((_1, x))               #matriz phi del train\n",
    "    \n",
    "    pp = np.dot(phi.T, phi) \n",
    "    yy = np.dot(phi.T, Y_train)\n",
    "    \n",
    "    wml = np.linalg.solve(pp, yy)\n",
    "    \n",
    "    x_test = X_test.reshape(shape2)\n",
    "    _1_test = np.ones(shape2)\n",
    "    phi2 = np.hstack((_1_test, x_test))\n",
    "    \n",
    "    #ahora guardamos los resultados en esta variable\n",
    "    Y_test = np.dot(phi2, wml)\n",
    "    \n",
    "    #Finish\n",
    "    assert len(Y_test) == len(X_test), \"Tamaño de Y_test distinto al de X_test\"\n",
    "    return np.array(Y_test)\n"
   ]
  },
  {
   "cell_type": "code",
   "execution_count": 264,
   "metadata": {},
   "outputs": [
    {
     "name": "stdout",
     "output_type": "stream",
     "text": [
      "La seed usada es 20748\n"
     ]
    },
    {
     "data": {
      "text/plain": [
       "<matplotlib.legend.Legend at 0x7fe987c81278>"
      ]
     },
     "execution_count": 264,
     "metadata": {},
     "output_type": "execute_result"
    },
    {
     "data": {
      "image/png": "[encoded data removed]",
      "text/plain": [
       "<Figure size 432x288 with 1 Axes>"
      ]
     },
     "metadata": {
      "needs_background": "light"
     },
     "output_type": "display_data"
    }
   ],
   "source": [
    "import numpy.random as rr\n",
    "\n",
    "# Parámetros de la ground truth\n",
    "b = 4\n",
    "m = 5\n",
    "\n",
    "# Número de datos\n",
    "n = 100\n",
    "\n",
    "# \n",
    "x_ = 2 * np.random.rand(n, 1)\n",
    "\n",
    "# El modelo real (ground truth)\n",
    "t_ = b + m * x_\n",
    "\n",
    "# Agregemos error normal a los datos\n",
    "t_ += np.random.randn(n, 1)\n",
    "\n",
    "def elegir_test(data, fraccion, seed=1234):\n",
    "\n",
    "    # Fijar el seed para ser reproducible\n",
    "    import numpy.random as rr\n",
    "    if seed is not None:\n",
    "        rr.seed(seed)\n",
    "    \n",
    "    # Permuta los índices para elegir al azar\n",
    "    ind = rr.permutation(len(data))\n",
    "    \n",
    "    # Calcula el número de elementos en el set de test\n",
    "    ntest = int(len(data) * fraccion)\n",
    "    \n",
    "    # Construye los índices para cada conjunto\n",
    "    indices_train = ind[ntest:]\n",
    "    indices_test = ind[:ntest]\n",
    "    return data[indices_train], data[indices_test]\n",
    "\n",
    "# Construye array con los x y los t\n",
    "data = np.hstack([x_, t_])\n",
    "\n",
    "\n",
    "seed = np.random.randint(1, 25000)\n",
    "print('La seed usada es {}'.format(seed))\n",
    "\n",
    "# Nuestra implementación\n",
    "data_train, data_test = elegir_test(data, 0.2, seed = seed)\n",
    "\n",
    "\n",
    "y_test = ajuste_lineal(data_train[:,0], data_train[:,1], data_test[:,0])\n",
    "\n",
    "plt.plot(data_test[:,0], y_test, label = 'Prediccion')\n",
    "plt.plot(data_test[:,0], data_test[:,1], 'or', markersize = 1, label = 'Datos de Test')\n",
    "\n",
    "plt.legend()"
   ]
  }
 ],
 "metadata": {
  "colab": {
   "collapsed_sections": [],
   "name": "Auto-evaluación.ipynb",
   "provenance": []
  },
  "kernelspec": {
   "display_name": "Python 3",
   "language": "python",
   "name": "python3"
  },
  "language_info": {
   "codemirror_mode": {
    "name": "ipython",
    "version": 3
   },
   "file_extension": ".py",
   "mimetype": "text/x-python",
   "name": "python",
   "nbconvert_exporter": "python",
   "pygments_lexer": "ipython3",
   "version": "3.7.3"
  }
 },
 "nbformat": 4,
 "nbformat_minor": 1
}
