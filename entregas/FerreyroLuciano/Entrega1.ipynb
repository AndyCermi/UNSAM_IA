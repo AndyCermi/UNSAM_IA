{
 "cells": [
  {
   "cell_type": "markdown",
   "metadata": {},
   "source": [
    "## Presentación\n",
    "\n",
    "Estos ejercicios tienen el fin de poder evaluar la situación en la que se encuentra cada unx de ustedes a esta altura de la materia. No es un examen, ni llevará ningún tipo de nota.\n",
    "\n",
    "Les pedimos que respeten al pie de la letra el nombre de las funciones que les damos para completar y su \"signature\". Esto es, que respeten los argumentos de entrada y la salida. Esto es porque tenemos una forma de verificación automática que de otra manera no funciona. Cuando hayamos recibido los notebooks, haremos público el código de control.\n",
    "\n",
    "Por supuesto, si quieren agregar celdas y más código, si quieren hacer pruebas para asegurarse de que el código funciona, etc., pueden hacerlo aquí mismo.\n",
    "\n",
    "La _modalidad de entrega preferencial_ es a través de GitHub:\n",
    "1. Hacer un fork del [repositorio](https://github.com/exord/UNSAM_IA), tocando el botón de arriba a la derecha (ver figura). \n",
    "\n",
    "2. Crear un subdirectorio dentro del directorio <tt>entregas</tt> con el formato \"ApellidoNombre\"\n",
    "3. Completar este notebook y colocarlo en ese directorio. Hacer un \"commit\" y un \"push\" a su versión del repositorio.\n",
    "4. Realizar un <tt>pull request</tt> desde GitHub y seguir las instrucciones. Más información en la [página de GitHub](https://help.github.com/en/github/collaborating-with-issues-and-pull-requests/about-pull-requests).\n",
    "\n",
    "De ser necesario, en caso de sufrir de **alergia severa a GitHub**, el notebook puede enviarse por email.\n",
    "\n",
    "La **fecha límite** para la entrega es el **martes 21 de abril a las 20 horas**.\n",
    "\n",
    "<figure>\n",
    "    <img src=\"../../figures/fork_pullrequest.jpeg\", alt=\"Fork\", width=\"800px\", \n",
    "         style=\"float: left; margin-right: 10px;\"/>\n",
    "    \n",
    "     <figcaption>Fig.1 - Ubicación de los botones para Fork y Pull request en Github.</figcaption>\n",
    "</figure>"
   ]
  },
  {
   "cell_type": "markdown",
   "metadata": {
    "colab_type": "text",
    "id": "xQGJAaz9My8p"
   },
   "source": [
    "## 1. Probabilidad Condicional"
   ]
  },
  {
   "cell_type": "code",
   "execution_count": 0,
   "metadata": {
    "colab": {},
    "colab_type": "code",
    "id": "UV8ZHtWoMWVd"
   },
   "outputs": [],
   "source": [
    "#Si estas en Google Colab, ejecuta esta celda una unica vez:\n",
    "!mkdir datasets\n",
    "!mkdir datasets/student-alcohol-consumption\n",
    "!wget https://raw.githubusercontent.com/exord/UNSAM_IA/master/datasets/student-alcohol-consumption/student-mat.csv\n",
    "!mv student-mat.csv datasets/student-alcohol-consumption/student-mat.csv"
   ]
  },
  {
   "cell_type": "markdown",
   "metadata": {
    "colab_type": "text",
    "id": "MDyX2WNDM1fC"
   },
   "source": [
    "Similar al ***Caso: Apruebo si falto a clase?*** del [notebook de probabilidad condicional](02_Condicional.ipynb), calcule la probabilidad de que un alumno haya faltado menos de 3 veces dado que sacó más de un 60% en la materia, i.e.\n",
    "$$\n",
    "P( \\text{absences} < 3 | \\text{G3} \\geq 12).\n",
    "$$\n",
    "\n",
    "Por favor, utilice el siguiente signature. Se recomienda cambiar el código solamente entre los comentarios \"Start\" y \"Finish\". \n",
    "Si quiere probar cosas, siéntase libre de crear nuevas celdas de código, aunque estas no serán evaluadas.\n",
    "\n",
    "### Notas propias\n",
    "A fines prácticos, defino como suceso <i>A, el alumno faltó menos de 3 veces </i> y <i>B, el alumno sacó 12 o más</i>. Referencias por <b>p_a</b> y <b>p_b</b> en el código."
   ]
  },
  {
   "cell_type": "code",
   "execution_count": 83,
   "metadata": {
    "colab": {},
    "colab_type": "code",
    "id": "kgp3Px1JNFbA"
   },
   "outputs": [],
   "source": [
    "import numpy as np\n",
    "import pandas as pd\n",
    "\n",
    "def prob_condicional(\n",
    "    df=pd.read_csv('../../datasets/student-alcohol-consumption/student-mat.csv')):\n",
    "    \"\"\"Calcula P(absences < 3 | G3 >= 12).\n",
    "\n",
    "    Input:\n",
    "    df -- dataset de estudiantes\n",
    "\n",
    "    Output:\n",
    "    p        -- probabilidad de que absences > 3 dado que G3 >= 12\n",
    "    \"\"\"\n",
    "    #Start\n",
    "    # Dado que el ejercicio es corto, guardo en variables para operar\n",
    "    # más cómodo (al menos para mi). Además, no se está pidiendo eficiencia\n",
    "    # en este caso\n",
    "    notas = df['G3']\n",
    "    ausencias = df['absences']     \n",
    "    \n",
    "    # Miro dónde es que hay más de 12 o igual, de nota (60%)\n",
    "    aprobo_12 = np.where(notas*5 >= 60, 1, 0)\n",
    "    # Miro dónde hay menos de 3 ausencias\n",
    "    ausencias_3 = np.where(ausencias < 3, 1, 0)\n",
    "    # Miro dónde se dieron ambos casos\n",
    "    aprob_ausenc = np.where((notas*5 >= 60) & (ausencias < 3), 1, 0)\n",
    "    \n",
    "    # Cuento cuantos aprobaron con 12 o más\n",
    "    N_aprobo_12 = np.sum(aprobo_12)\n",
    "    # Cuento cuantos faltaron menos de 3 veces\n",
    "    N_ausencias_3 = np.sum(ausencias_3)\n",
    "    # Cuento cuantos cumplen con ambas condiciones\n",
    "    N_aprob_ausenc = np.sum(aprob_ausenc)\n",
    "    \n",
    "    print('{:}: alumnos sacaron más de 12\\n{:} alumnos faltaron menos de 3 veces'.format(N_aprobo_12,N_ausencias_3))\n",
    "    print('La cantidad de alumnos que cumplen con ambas condiciones: {:}'.format(N_aprob_ausenc))\n",
    "    print('El total de alumnos es: {:}'.format(len(df)))\n",
    "    \n",
    "    # La probabilidad de faltar menos de 3  veces es:\n",
    "    p_a = N_ausencias_3/len(df)    \n",
    "    # La probabilidad de aprobar con 12 o más es:\n",
    "    p_b = N_aprobo_12/len(df)\n",
    "    \n",
    "    # La probabildad: P(A,B) = P(B,A) es:\n",
    "    p_a_y_b = N_aprob_ausenc/len(df)\n",
    "    # La probabilidad: P(A/B) = P(B/A)P(A)/P(B) = P(B,A)/P(B)\n",
    "    \n",
    "    #guarda el valor final, como un número, en esta variable\n",
    "    resultado = p_a_y_b/p_b\n",
    "    \n",
    "    # Usando las facilidades de Panda\n",
    "    df['cuenta'] = 1\n",
    "    df['aprueba_con_12_o_mas'] = aprobo_12\n",
    "    df['falto_menor_3'] = ausencias_3\n",
    "    df = df[['aprueba_con_12_o_mas','falto_menor_3','cuenta']]\n",
    "    pv_table = pd.pivot_table(df,\n",
    "                              values='cuenta',\n",
    "                              index=['aprueba_con_12_o_mas'],\n",
    "                              columns=['falto_menor_3'],\n",
    "                              aggfunc=np.sum,\n",
    "                              fill_value=0)\n",
    "    \n",
    "    print('\\n\\nTabla armada usando Pandas:')\n",
    "    print(pv_table.head())\n",
    "    \n",
    "    #Finish\n",
    "    return resultado\n"
   ]
  },
  {
   "cell_type": "code",
   "execution_count": 84,
   "metadata": {},
   "outputs": [
    {
     "name": "stdout",
     "output_type": "stream",
     "text": [
      "162: alumnos sacaron más de 12\n",
      "183 alumnos faltaron menos de 3 veces\n",
      "La cantidad de alumnos que cumplen con ambas condiciones: 81\n",
      "El total de alumnos es: 395\n",
      "\n",
      "\n",
      "Tabla armada usando Pandas:\n",
      "falto_menor_3           0    1\n",
      "aprueba_con_12_o_mas          \n",
      "0                     131  102\n",
      "1                      81   81\n",
      "\n",
      "\n",
      "La probabilidad: P(A|B) = P(absences < 3| G3 >= 12) = 0.5\n"
     ]
    }
   ],
   "source": [
    "p_a_b = prob_condicional()\n",
    "print('\\n\\nLa probabilidad: P(A|B) = P(absences < 3| G3 >= 12) = {:.2}'.format(p_a_b))"
   ]
  },
  {
   "cell_type": "markdown",
   "metadata": {
    "colab_type": "text",
    "id": "laC3JpLHOx-h"
   },
   "source": [
    "## 2. Inferencia Bayesiana"
   ]
  },
  {
   "cell_type": "markdown",
   "metadata": {
    "colab_type": "text",
    "id": "dfG9aID6_CLD"
   },
   "source": [
    "Se tira una moneda N veces, de las cuales X sale cara. La moneda sale cara con una frecuencia $\\mu$ desconocida, pero que se cree que es *fair*. \n",
    "\n",
    "Construya una función que recibe el vector con los N resultados (1: cara, 0: seca) y con él calcule tanto el posterior del parámetro $\\mu$ como la probabilidad de que $\\mu>0.7$. Use como prior una distribución normal con media 0.5 y desviación estandar 0.1 ($\\mathcal{N}(0.5,0.1)$)\n",
    "\n",
    "Por favor, utilice el siguiente signature. Se recomienda cambiar el código solamente entre los comentarios \"Start\" y \"Finish\". \n",
    "Si quiere probar cosas, siéntase libre de crear nuevas celdas de código, aunque estas no serán evaluadas.\n",
    "\n",
    "<b>Ayuda</b>: usar los métodos <tt>pdf</tt> y <tt>pmf</tt> de las clases de <tt>scipy.stats</tt> que se importan al principio de la celda. Revisar también los notebooks de [teoría](03_Inferencia.ipynb) y [práctica](03p_Inferencia_Soluciones.ipynb) que se presentaron en clase.\n",
    "\n",
    "### Notas propias\n",
    "Planteo el ejercicio tal que:\n",
    "\n",
    "$$\n",
    "P(\\mu|(\\mu_{n},\\sigma_{n})) = \\frac{P((\\mu_{n},\\sigma_{n})|\\mu)\\cdot P(\\mu)}{P((\\mu_{n},\\sigma_{n}))}\n",
    "$$\n",
    "\n",
    "Y como la Prior es una Normal, queda:\n",
    "\n",
    "$$\n",
    "P(\\mu|(\\mu_{n},\\sigma_{n})) = \\frac{P((\\mu_{n},\\sigma_{n})|\\mu)\\cdot N(\\mu_{n},\\sigma_{n})}{P((\\mu_{n},\\sigma_{n}))}\n",
    "$$"
   ]
  },
  {
   "cell_type": "code",
   "execution_count": 150,
   "metadata": {
    "colab": {},
    "colab_type": "code",
    "id": "-NY1kRNs1GnH"
   },
   "outputs": [],
   "source": [
    "import numpy as np\n",
    "import scipy.stats as st\n",
    "from matplotlib import pylab as plt\n",
    "\n",
    "def inferencia_moneda(tiradas, seed=123):\n",
    "    \"\"\"Realiza inferencia bayesiana en el parametro mu de una moneda.\n",
    "\n",
    "    Input:\n",
    "    tiradas -- Resultado de N tiradas\n",
    "    seed    -- Semilla para np.random (default=123)\n",
    "\n",
    "    Output:\n",
    "    p        -- probabilidad de que mu>0.7\n",
    "    posterior-- posterior de mu, shape=(100,)\n",
    "    \"\"\"\n",
    "    np.random.seed(seed)\n",
    "    mu, step = np.linspace(0,1,num=100, retstep=True) #step es el espacio entre puntos\n",
    "\n",
    "    #Numero de tiradas, y de veces que salio cara\n",
    "    N=len(tiradas)\n",
    "    X=np.sum(tiradas)\n",
    "    \n",
    "    #Start\n",
    "    # Coloco los parámetros de mu y sigma conocidos para la Prior\n",
    "    mu_normal = 0.5\n",
    "    sigma_normal = 0.1\n",
    "    # Tenemos la Prior\n",
    "    prior =  st.norm.pdf(mu,mu_normal,sigma_normal) #Esto es el prior evaluado en el vector mu\n",
    "    # Tenemos la verosimilitud, que es una Binomial\n",
    "    verosimilitud = st.binom.pmf(X,N,mu) #La verosimilitud evaluada en el vector mu\n",
    "    \n",
    "    # Y calculo la posterior, ya que al no usar la conjugada no dispongo\n",
    "    # de ninguna propiedad que me ahorre este paso y el siguiente, de normalización\n",
    "    posterior = prior*verosimilitud #el posterior no normalizado\n",
    "    evidencia = np.sum(posterior)*(mu[1]-mu[0]) #evidencia o verosimilitud marginalizada\n",
    "    \n",
    "    # La posterior normalizada es:\n",
    "    posterior = posterior/evidencia #normalizamos para obtener el posterior\n",
    "    \n",
    "    # entonces, la probabilidad de que mu > 0.7 será la integral \n",
    "    p = posterior[mu>0.7].sum()*(1/100) #Probabilidad de que mu > 0.7 \n",
    "    #Finish\n",
    "    assert len(posterior) == len(mu), \"Tamaño del posterior distinto al de mu\"\n",
    "    return p, np.array(posterior)\n",
    "\n"
   ]
  },
  {
   "cell_type": "code",
   "execution_count": 153,
   "metadata": {},
   "outputs": [
    {
     "name": "stdout",
     "output_type": "stream",
     "text": [
      "La probabilidad de que mu > 0.7 es: 0.007\n"
     ]
    },
    {
     "data": {
      "image/png": "[encoded data removed]",
      "text/plain": [
       "<Figure size 432x288 with 1 Axes>"
      ]
     },
     "metadata": {},
     "output_type": "display_data"
    }
   ],
   "source": [
    "# Defino el mu verdadero del experimento\n",
    "mu_verdadero = 0.5 # Esto asumo ante el \"fair\"\n",
    "\n",
    "# Simulamos todas las tiradas\n",
    "N_Max = 10\n",
    "x_total = st.bernoulli.rvs(mu_verdadero,size=int(N_Max))\n",
    "\n",
    "[p, posterior] = inferencia_moneda(x_total)\n",
    "\n",
    "fig = plt.figure(1)\n",
    "plt.plot(np.linspace(0,1,len(posterior)),posterior)\n",
    "plt.xlabel(r'$\\mu$')\n",
    "plt.ylabel(r'$P(\\mu|(N,x))$')\n",
    "plt.grid()\n",
    "plt.title('Posterior')\n",
    "\n",
    "print(\"La probabilidad de que mu > 0.7 es: %.3f\" %p)"
   ]
  },
  {
   "cell_type": "markdown",
   "metadata": {},
   "source": [
    "Para calcular la probabilidad de que $\\mu > 0.7$ usé una muestra chica, para que de un valor legible tanto en el gráfico como con calculos con np.sum(). Pero está claro, que dado que los datos fueron generados con $\\mu = 0.5$, la probabilidad de que $\\mu > 0.7$ tiene que tender a cero a medida que la cantidad de tiradas aumenta. (o al menos, eso es lo que yo entiendo :) )"
   ]
  },
  {
   "cell_type": "markdown",
   "metadata": {
    "colab_type": "text",
    "id": "koZhGjvgO4uo"
   },
   "source": [
    "## 3. Regresión Lineal"
   ]
  },
  {
   "cell_type": "markdown",
   "metadata": {
    "colab_type": "text",
    "id": "TLYPUIQrPMgk"
   },
   "source": [
    "Construye una función que dado un input (X_train, Y_train) realice un ajuste lineal de cuadrados mínimos, y con ello devuelva las predicciones para el input X_test como un vector Y_test.\n",
    "\n",
    "Por favor, utilice el siguiente signature. Se recomienda cambiar el código solamente entre los comentarios \"Start\" y \"Finish\". \n",
    "Si quiere probar cosas, siéntase libre de crear nuevas celdas de código, aunque estas no serán evaluadas.\n",
    "\n",
    "<b>Ayuda</b>: pueden usar la implementación de las ecuaciones normales que aparece en el notebook de [modelos lineales](05_ModelosLineales.ipynb) o las clases del módulo <tt>sklearn.linear_model</tt>."
   ]
  },
  {
   "cell_type": "code",
   "execution_count": 0,
   "metadata": {
    "colab": {},
    "colab_type": "code",
    "id": "NavUqiDhPLx-"
   },
   "outputs": [],
   "source": [
    "import numpy as np\n",
    "\n",
    "def ajuste_lineal(X_train, Y_train, X_test):\n",
    "    \"\"\"Calcula un ajuste lineal.\n",
    "\n",
    "    Input:\n",
    "    X_train -- datos de entrenamiento, shape=(N,1)\n",
    "    Y_train -- etiquetas de entrenamiento, shape=(N,1)\n",
    "    X_test  -- datos de testeo, shape=(N_test,1)\n",
    "\n",
    "    Output:\n",
    "    Y_test  -- prediccion de etiquetas para X_test, shape=(N_test,1)\n",
    "    \"\"\"\n",
    "\n",
    "    N=len(X_train)\n",
    "    N_test=len(X_test)\n",
    "    #Start\n",
    "  \n",
    "  \n",
    "    #ahora guardamos los resultados en esta variable\n",
    "    Y_test = None\n",
    "    #Finish\n",
    "    assert len(Y_test) == len(X_test), \"Tamaño de Y_test distinto al de X_test\"\n",
    "    return np.array(Y_test)"
   ]
  }
 ],
 "metadata": {
  "colab": {
   "collapsed_sections": [],
   "name": "Auto-evaluación.ipynb",
   "provenance": []
  },
  "kernelspec": {
   "display_name": "Python 3",
   "language": "python",
   "name": "python3"
  },
  "language_info": {
   "codemirror_mode": {
    "name": "ipython",
    "version": 3
   },
   "file_extension": ".py",
   "mimetype": "text/x-python",
   "name": "python",
   "nbconvert_exporter": "python",
   "pygments_lexer": "ipython3",
   "version": "3.6.9"
  }
 },
 "nbformat": 4,
 "nbformat_minor": 1
}
