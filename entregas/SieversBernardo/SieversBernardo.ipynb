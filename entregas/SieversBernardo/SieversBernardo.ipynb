{
  "nbformat": 4,
  "nbformat_minor": 0,
  "metadata": {
    "colab": {
      "name": "Copy of Copy of Auto-entregaBS.ipynb",
      "provenance": [],
      "collapsed_sections": []
    },
    "kernelspec": {
      "display_name": "Python 3",
      "language": "python",
      "name": "python3"
    },
    "language_info": {
      "codemirror_mode": {
        "name": "ipython",
        "version": 3
      },
      "file_extension": ".py",
      "mimetype": "text/x-python",
      "name": "python",
      "nbconvert_exporter": "python",
      "pygments_lexer": "ipython3",
      "version": "3.7.6"
    }
  },
  "cells": [
    {
      "cell_type": "markdown",
      "metadata": {
        "id": "taXc6Z7O2ha5",
        "colab_type": "text"
      },
      "source": [
        "## Presentación\n",
        "\n",
        "Estos ejercicios tienen el fin de poder evaluar la situación en la que se encuentra cada unx de ustedes a esta altura de la materia. No es un examen, ni llevará ningún tipo de nota.\n",
        "\n",
        "Les pedimos que respeten al pie de la letra el nombre de las funciones que les damos para completar y su \"signature\". Esto es, que respeten los argumentos de entrada y la salida. Esto es porque tenemos una forma de verificación automática que de otra manera no funciona. Cuando hayamos recibido los notebooks, haremos público el código de control.\n",
        "\n",
        "Por supuesto, si quieren agregar celdas y más código, si quieren hacer pruebas para asegurarse de que el código funciona, etc., pueden hacerlo aquí mismo.\n",
        "\n",
        "La _modalidad de entrega preferencial_ es a través de GitHub:\n",
        "1. Hacer un fork del [repositorio](https://github.com/exord/UNSAM_IA), tocando el botón de arriba a la derecha (ver figura). \n",
        "\n",
        "2. Crear un subdirectorio dentro del directorio <tt>entregas</tt> con el formato \"ApellidoNombre\"\n",
        "3. Completar este notebook y colocarlo en ese directorio. Hacer un \"commit\" y un \"push\" a su versión del repositorio.\n",
        "4. Realizar un <tt>pull request</tt> desde GitHub y seguir las instrucciones. Más información en la [página de GitHub](https://help.github.com/en/github/collaborating-with-issues-and-pull-requests/about-pull-requests).\n",
        "\n",
        "De ser necesario, en caso de sufrir de **alergia severa a GitHub**, el notebook puede enviarse por email.\n",
        "\n",
        "La **fecha límite** para la entrega es el **martes 21 de abril a las 20 horas**.\n",
        "\n",
        "<figure>\n",
        "    <img src=\"https://github.com/exord/UNSAM_IA/blob/master/figures/fork_pullrequest.jpeg?raw=1\", alt=\"Fork\", width=\"800px\", \n",
        "         style=\"float: left; margin-right: 10px;\"/>\n",
        "    \n",
        "     <figcaption>Fig.1 - Ubicación de los botones para Fork y Pull request en Github.</figcaption>\n",
        "</figure>"
      ]
    },
    {
      "cell_type": "markdown",
      "metadata": {
        "colab_type": "text",
        "id": "xQGJAaz9My8p"
      },
      "source": [
        "## 1. Probabilidad Condicional"
      ]
    },
    {
      "cell_type": "code",
      "metadata": {
        "colab_type": "code",
        "id": "UV8ZHtWoMWVd",
        "outputId": "334594d3-55b8-49d3-f0f7-9079c26a25eb",
        "colab": {
          "base_uri": "https://localhost:8080/",
          "height": 204
        }
      },
      "source": [
        "#Si estas en Google Colab, ejecuta esta celda una unica vez:\n",
        "!mkdir datasets\n",
        "!mkdir datasets/student-alcohol-consumption\n",
        "!wget https://raw.githubusercontent.com/exord/UNSAM_IA/master/datasets/student-alcohol-consumption/student-mat.csv\n",
        "!mv student-mat.csv datasets/student-alcohol-consumption/student-mat.csv"
      ],
      "execution_count": 0,
      "outputs": [
        {
          "output_type": "stream",
          "text": [
            "--2020-04-16 21:18:48--  https://raw.githubusercontent.com/exord/UNSAM_IA/master/datasets/student-alcohol-consumption/student-mat.csv\n",
            "Resolving raw.githubusercontent.com (raw.githubusercontent.com)... 151.101.0.133, 151.101.64.133, 151.101.128.133, ...\n",
            "Connecting to raw.githubusercontent.com (raw.githubusercontent.com)|151.101.0.133|:443... connected.\n",
            "HTTP request sent, awaiting response... 200 OK\n",
            "Length: 41983 (41K) [text/plain]\n",
            "Saving to: ‘student-mat.csv’\n",
            "\n",
            "student-mat.csv     100%[===================>]  41.00K  --.-KB/s    in 0.02s   \n",
            "\n",
            "2020-04-16 21:18:49 (1.98 MB/s) - ‘student-mat.csv’ saved [41983/41983]\n",
            "\n"
          ],
          "name": "stdout"
        }
      ]
    },
    {
      "cell_type": "markdown",
      "metadata": {
        "colab_type": "text",
        "id": "MDyX2WNDM1fC"
      },
      "source": [
        "Similar al ***Caso: Apruebo si falto a clase?*** del [notebook de probabilidad condicional](02_Condicional.ipynb), calcule la probabilidad de que un alumno haya faltado menos de 3 veces dado que sacó más de un 60% en la materia, i.e.\n",
        "$$\n",
        "P( \\text{absences} < 3 | \\text{G3} \\geq 12).\n",
        "$$\n",
        "\n",
        "Por favor, utilice el siguiente signature. Se recomienda cambiar el código solamente entre los comentarios \"Start\" y \"Finish\". \n",
        "Si quiere probar cosas, siéntase libre de crear nuevas celdas de código, aunque estas no serán evaluadas."
      ]
    },
    {
      "cell_type": "code",
      "metadata": {
        "id": "s9iLx8or_aTS",
        "colab_type": "code",
        "outputId": "608d6e98-7944-4366-ccf8-b242ece4531e",
        "colab": {
          "base_uri": "https://localhost:8080/",
          "height": 34
        }
      },
      "source": [
        "prob_condicional()\n"
      ],
      "execution_count": 0,
      "outputs": [
        {
          "output_type": "execute_result",
          "data": {
            "text/plain": [
              "0.38207547169811323"
            ]
          },
          "metadata": {
            "tags": []
          },
          "execution_count": 38
        }
      ]
    },
    {
      "cell_type": "code",
      "metadata": {
        "id": "RdBcxKWI3WXi",
        "colab_type": "code",
        "outputId": "d46bb6b9-67b6-4f1b-89a8-2143ddc57899",
        "colab": {
          "base_uri": "https://localhost:8080/",
          "height": 34
        }
      },
      "source": [
        "\n",
        "asd=pd.read_csv('datasets/student-alcohol-consumption/student-mat.csv')\n",
        "asd.head()\n",
        "asd['aprueba'] = np.where(df['G3']*5 >= 60, 1, 0)\n",
        "asd['falto_poco'] = np.where(df['absences'] <3, 1, 0)\n",
        "asd['cuenta'] = 1 #llena de unos\n",
        "asd = asd[['aprueba','falto_poco','cuenta']]\n",
        "tablita=pd.pivot_table(\n",
        "    asd,\n",
        "    values = 'cuenta',\n",
        "    index = ['aprueba'],\n",
        "    columns = ['falto_poco'],\n",
        "    aggfunc = np.sum,\n",
        "    fill_value = 0)\n",
        "p_aprueba=(tablita.loc[0,0]+tablita.loc[1,0])/395\n",
        "p_aprueba\n",
        "p_faltapocoyaprueba=tablita.loc[1,1]/395\n",
        "p_faltapocoyaprueba\n",
        "prob=p_faltapocoyaprueba/p_aprueba\n",
        "prob"
      ],
      "execution_count": 0,
      "outputs": [
        {
          "output_type": "execute_result",
          "data": {
            "text/plain": [
              "0.38207547169811323"
            ]
          },
          "metadata": {
            "tags": []
          },
          "execution_count": 35
        }
      ]
    },
    {
      "cell_type": "code",
      "metadata": {
        "colab_type": "code",
        "id": "kgp3Px1JNFbA",
        "colab": {
          "base_uri": "https://localhost:8080/",
          "height": 442
        },
        "outputId": "82632a3a-19e4-46b7-bb77-d63989ff1880"
      },
      "source": [
        "import numpy as np\n",
        "import pandas as pd\n",
        "from math import sqrt\n",
        "import matplotlib.pyplot as plt\n",
        "%matplotlib inline\n",
        "\n",
        "def prob_condicional(\n",
        "    df=pd.read_csv('datasets/student-alcohol-consumption/student-mat.csv')):\n",
        "    \"\"\"Calcula P(absences < 3 | G3 >= 12).\n",
        "\n",
        "    Input:\n",
        "    df -- dataset de estudiantes\n",
        "\n",
        "    Output:\n",
        "    p        -- probabilidad de que absences > 3 dado que G3 >= 12\n",
        "    \"\"\"\n",
        "    #Start\n",
        "\n",
        "    #agrego columnas para ver si saco maso igual a 60 y si falto menos de 3 veces\n",
        "    df['aprueba'] = np.where(df['G3']*5 >= 60, 1, 0)\n",
        "    df['falto_poco'] = np.where(df['absences'] <3, 1, 0)\n",
        "    df['cuenta'] = 1 #llena de unos\n",
        "    df = df[['aprueba','falto_poco','cuenta']] #me quedo solo con esas 3 columnas\n",
        "    \n",
        "    #armo la tablita\n",
        "    tablita=pd.pivot_table(\n",
        "    df,\n",
        "    values = 'cuenta',\n",
        "    index = ['aprueba'],\n",
        "    columns = ['falto_poco'],\n",
        "    aggfunc = np.sum,\n",
        "    fill_value = 0)\n",
        "\n",
        "    #saco las probabilidades\n",
        "    p_aprueba=(tablita.loc[0,0]+tablita.loc[1,0])/395\n",
        "    p_faltapocoyaprueba=tablita.loc[1,1]/395\n",
        "\n",
        "\n",
        "\n",
        "\n",
        "    #guarda el valor final, como un número, en esta variable\n",
        "    resultado = p_faltapocoyaprueba/p_aprueba\n",
        "    #Finish\n",
        "    return resultado"
      ],
      "execution_count": 1,
      "outputs": [
        {
          "output_type": "error",
          "ename": "FileNotFoundError",
          "evalue": "ignored",
          "traceback": [
            "\u001b[0;31m---------------------------------------------------------------------------\u001b[0m",
            "\u001b[0;31mFileNotFoundError\u001b[0m                         Traceback (most recent call last)",
            "\u001b[0;32m<ipython-input-1-617ba807083e>\u001b[0m in \u001b[0;36m<module>\u001b[0;34m()\u001b[0m\n\u001b[1;32m      6\u001b[0m \u001b[0;34m\u001b[0m\u001b[0m\n\u001b[1;32m      7\u001b[0m def prob_condicional(\n\u001b[0;32m----> 8\u001b[0;31m     df=pd.read_csv('datasets/student-alcohol-consumption/student-mat.csv')):\n\u001b[0m\u001b[1;32m      9\u001b[0m     \"\"\"Calcula P(absences < 3 | G3 >= 12).\n\u001b[1;32m     10\u001b[0m \u001b[0;34m\u001b[0m\u001b[0m\n",
            "\u001b[0;32m/usr/local/lib/python3.6/dist-packages/pandas/io/parsers.py\u001b[0m in \u001b[0;36mparser_f\u001b[0;34m(filepath_or_buffer, sep, delimiter, header, names, index_col, usecols, squeeze, prefix, mangle_dupe_cols, dtype, engine, converters, true_values, false_values, skipinitialspace, skiprows, skipfooter, nrows, na_values, keep_default_na, na_filter, verbose, skip_blank_lines, parse_dates, infer_datetime_format, keep_date_col, date_parser, dayfirst, cache_dates, iterator, chunksize, compression, thousands, decimal, lineterminator, quotechar, quoting, doublequote, escapechar, comment, encoding, dialect, error_bad_lines, warn_bad_lines, delim_whitespace, low_memory, memory_map, float_precision)\u001b[0m\n\u001b[1;32m    674\u001b[0m         )\n\u001b[1;32m    675\u001b[0m \u001b[0;34m\u001b[0m\u001b[0m\n\u001b[0;32m--> 676\u001b[0;31m         \u001b[0;32mreturn\u001b[0m \u001b[0m_read\u001b[0m\u001b[0;34m(\u001b[0m\u001b[0mfilepath_or_buffer\u001b[0m\u001b[0;34m,\u001b[0m \u001b[0mkwds\u001b[0m\u001b[0;34m)\u001b[0m\u001b[0;34m\u001b[0m\u001b[0;34m\u001b[0m\u001b[0m\n\u001b[0m\u001b[1;32m    677\u001b[0m \u001b[0;34m\u001b[0m\u001b[0m\n\u001b[1;32m    678\u001b[0m     \u001b[0mparser_f\u001b[0m\u001b[0;34m.\u001b[0m\u001b[0m__name__\u001b[0m \u001b[0;34m=\u001b[0m \u001b[0mname\u001b[0m\u001b[0;34m\u001b[0m\u001b[0;34m\u001b[0m\u001b[0m\n",
            "\u001b[0;32m/usr/local/lib/python3.6/dist-packages/pandas/io/parsers.py\u001b[0m in \u001b[0;36m_read\u001b[0;34m(filepath_or_buffer, kwds)\u001b[0m\n\u001b[1;32m    446\u001b[0m \u001b[0;34m\u001b[0m\u001b[0m\n\u001b[1;32m    447\u001b[0m     \u001b[0;31m# Create the parser.\u001b[0m\u001b[0;34m\u001b[0m\u001b[0;34m\u001b[0m\u001b[0;34m\u001b[0m\u001b[0m\n\u001b[0;32m--> 448\u001b[0;31m     \u001b[0mparser\u001b[0m \u001b[0;34m=\u001b[0m \u001b[0mTextFileReader\u001b[0m\u001b[0;34m(\u001b[0m\u001b[0mfp_or_buf\u001b[0m\u001b[0;34m,\u001b[0m \u001b[0;34m**\u001b[0m\u001b[0mkwds\u001b[0m\u001b[0;34m)\u001b[0m\u001b[0;34m\u001b[0m\u001b[0;34m\u001b[0m\u001b[0m\n\u001b[0m\u001b[1;32m    449\u001b[0m \u001b[0;34m\u001b[0m\u001b[0m\n\u001b[1;32m    450\u001b[0m     \u001b[0;32mif\u001b[0m \u001b[0mchunksize\u001b[0m \u001b[0;32mor\u001b[0m \u001b[0miterator\u001b[0m\u001b[0;34m:\u001b[0m\u001b[0;34m\u001b[0m\u001b[0;34m\u001b[0m\u001b[0m\n",
            "\u001b[0;32m/usr/local/lib/python3.6/dist-packages/pandas/io/parsers.py\u001b[0m in \u001b[0;36m__init__\u001b[0;34m(self, f, engine, **kwds)\u001b[0m\n\u001b[1;32m    878\u001b[0m             \u001b[0mself\u001b[0m\u001b[0;34m.\u001b[0m\u001b[0moptions\u001b[0m\u001b[0;34m[\u001b[0m\u001b[0;34m\"has_index_names\"\u001b[0m\u001b[0;34m]\u001b[0m \u001b[0;34m=\u001b[0m \u001b[0mkwds\u001b[0m\u001b[0;34m[\u001b[0m\u001b[0;34m\"has_index_names\"\u001b[0m\u001b[0;34m]\u001b[0m\u001b[0;34m\u001b[0m\u001b[0;34m\u001b[0m\u001b[0m\n\u001b[1;32m    879\u001b[0m \u001b[0;34m\u001b[0m\u001b[0m\n\u001b[0;32m--> 880\u001b[0;31m         \u001b[0mself\u001b[0m\u001b[0;34m.\u001b[0m\u001b[0m_make_engine\u001b[0m\u001b[0;34m(\u001b[0m\u001b[0mself\u001b[0m\u001b[0;34m.\u001b[0m\u001b[0mengine\u001b[0m\u001b[0;34m)\u001b[0m\u001b[0;34m\u001b[0m\u001b[0;34m\u001b[0m\u001b[0m\n\u001b[0m\u001b[1;32m    881\u001b[0m \u001b[0;34m\u001b[0m\u001b[0m\n\u001b[1;32m    882\u001b[0m     \u001b[0;32mdef\u001b[0m \u001b[0mclose\u001b[0m\u001b[0;34m(\u001b[0m\u001b[0mself\u001b[0m\u001b[0;34m)\u001b[0m\u001b[0;34m:\u001b[0m\u001b[0;34m\u001b[0m\u001b[0;34m\u001b[0m\u001b[0m\n",
            "\u001b[0;32m/usr/local/lib/python3.6/dist-packages/pandas/io/parsers.py\u001b[0m in \u001b[0;36m_make_engine\u001b[0;34m(self, engine)\u001b[0m\n\u001b[1;32m   1112\u001b[0m     \u001b[0;32mdef\u001b[0m \u001b[0m_make_engine\u001b[0m\u001b[0;34m(\u001b[0m\u001b[0mself\u001b[0m\u001b[0;34m,\u001b[0m \u001b[0mengine\u001b[0m\u001b[0;34m=\u001b[0m\u001b[0;34m\"c\"\u001b[0m\u001b[0;34m)\u001b[0m\u001b[0;34m:\u001b[0m\u001b[0;34m\u001b[0m\u001b[0;34m\u001b[0m\u001b[0m\n\u001b[1;32m   1113\u001b[0m         \u001b[0;32mif\u001b[0m \u001b[0mengine\u001b[0m \u001b[0;34m==\u001b[0m \u001b[0;34m\"c\"\u001b[0m\u001b[0;34m:\u001b[0m\u001b[0;34m\u001b[0m\u001b[0;34m\u001b[0m\u001b[0m\n\u001b[0;32m-> 1114\u001b[0;31m             \u001b[0mself\u001b[0m\u001b[0;34m.\u001b[0m\u001b[0m_engine\u001b[0m \u001b[0;34m=\u001b[0m \u001b[0mCParserWrapper\u001b[0m\u001b[0;34m(\u001b[0m\u001b[0mself\u001b[0m\u001b[0;34m.\u001b[0m\u001b[0mf\u001b[0m\u001b[0;34m,\u001b[0m \u001b[0;34m**\u001b[0m\u001b[0mself\u001b[0m\u001b[0;34m.\u001b[0m\u001b[0moptions\u001b[0m\u001b[0;34m)\u001b[0m\u001b[0;34m\u001b[0m\u001b[0;34m\u001b[0m\u001b[0m\n\u001b[0m\u001b[1;32m   1115\u001b[0m         \u001b[0;32melse\u001b[0m\u001b[0;34m:\u001b[0m\u001b[0;34m\u001b[0m\u001b[0;34m\u001b[0m\u001b[0m\n\u001b[1;32m   1116\u001b[0m             \u001b[0;32mif\u001b[0m \u001b[0mengine\u001b[0m \u001b[0;34m==\u001b[0m \u001b[0;34m\"python\"\u001b[0m\u001b[0;34m:\u001b[0m\u001b[0;34m\u001b[0m\u001b[0;34m\u001b[0m\u001b[0m\n",
            "\u001b[0;32m/usr/local/lib/python3.6/dist-packages/pandas/io/parsers.py\u001b[0m in \u001b[0;36m__init__\u001b[0;34m(self, src, **kwds)\u001b[0m\n\u001b[1;32m   1889\u001b[0m         \u001b[0mkwds\u001b[0m\u001b[0;34m[\u001b[0m\u001b[0;34m\"usecols\"\u001b[0m\u001b[0;34m]\u001b[0m \u001b[0;34m=\u001b[0m \u001b[0mself\u001b[0m\u001b[0;34m.\u001b[0m\u001b[0musecols\u001b[0m\u001b[0;34m\u001b[0m\u001b[0;34m\u001b[0m\u001b[0m\n\u001b[1;32m   1890\u001b[0m \u001b[0;34m\u001b[0m\u001b[0m\n\u001b[0;32m-> 1891\u001b[0;31m         \u001b[0mself\u001b[0m\u001b[0;34m.\u001b[0m\u001b[0m_reader\u001b[0m \u001b[0;34m=\u001b[0m \u001b[0mparsers\u001b[0m\u001b[0;34m.\u001b[0m\u001b[0mTextReader\u001b[0m\u001b[0;34m(\u001b[0m\u001b[0msrc\u001b[0m\u001b[0;34m,\u001b[0m \u001b[0;34m**\u001b[0m\u001b[0mkwds\u001b[0m\u001b[0;34m)\u001b[0m\u001b[0;34m\u001b[0m\u001b[0;34m\u001b[0m\u001b[0m\n\u001b[0m\u001b[1;32m   1892\u001b[0m         \u001b[0mself\u001b[0m\u001b[0;34m.\u001b[0m\u001b[0munnamed_cols\u001b[0m \u001b[0;34m=\u001b[0m \u001b[0mself\u001b[0m\u001b[0;34m.\u001b[0m\u001b[0m_reader\u001b[0m\u001b[0;34m.\u001b[0m\u001b[0munnamed_cols\u001b[0m\u001b[0;34m\u001b[0m\u001b[0;34m\u001b[0m\u001b[0m\n\u001b[1;32m   1893\u001b[0m \u001b[0;34m\u001b[0m\u001b[0m\n",
            "\u001b[0;32mpandas/_libs/parsers.pyx\u001b[0m in \u001b[0;36mpandas._libs.parsers.TextReader.__cinit__\u001b[0;34m()\u001b[0m\n",
            "\u001b[0;32mpandas/_libs/parsers.pyx\u001b[0m in \u001b[0;36mpandas._libs.parsers.TextReader._setup_parser_source\u001b[0;34m()\u001b[0m\n",
            "\u001b[0;31mFileNotFoundError\u001b[0m: [Errno 2] File datasets/student-alcohol-consumption/student-mat.csv does not exist: 'datasets/student-alcohol-consumption/student-mat.csv'"
          ]
        }
      ]
    },
    {
      "cell_type": "markdown",
      "metadata": {
        "colab_type": "text",
        "id": "laC3JpLHOx-h"
      },
      "source": [
        "## 2. Inferencia Bayesiana"
      ]
    },
    {
      "cell_type": "markdown",
      "metadata": {
        "colab_type": "text",
        "id": "dfG9aID6_CLD"
      },
      "source": [
        "Se tira una moneda N veces, de las cuales X sale cara. La moneda sale cara con una frecuencia $\\mu$ desconocida, pero que se cree que es *fair*. \n",
        "\n",
        "Construya una función que recibe el vector con los N resultados (1: cara, 0: seca) y con él calcule tanto el posterior del parámetro $\\mu$ como la probabilidad de que $\\mu>0.7$. Use como prior una distribución normal con media 0.5 y desviación estandar 0.1 ($\\mathcal{N}(0.5,0.1)$)\n",
        "\n",
        "Por favor, utilice el siguiente signature. Se recomienda cambiar el código solamente entre los comentarios \"Start\" y \"Finish\". \n",
        "Si quiere probar cosas, siéntase libre de crear nuevas celdas de código, aunque estas no serán evaluadas.\n",
        "\n",
        "<b>Ayuda</b>: usar los métodos <tt>pdf</tt> y <tt>pmf</tt> de las clases de <tt>scipy.stats</tt> que se importan al principio de la celda. Revisar también los notebooks de [teoría](03_Inferencia.ipynb) y [práctica](03p_Inferencia_Soluciones.ipynb) que se presentaron en clase."
      ]
    },
    {
      "cell_type": "code",
      "metadata": {
        "id": "YhQB4E282E5Z",
        "colab_type": "code",
        "colab": {}
      },
      "source": [
        "import math\n",
        "import numpy as np\n",
        "import pandas as pd\n",
        "from scipy.stats import binom, beta, uniform, norm, bernoulli, dirichlet\n",
        "\n",
        "from matplotlib import pyplot as plt\n",
        "%matplotlib inline"
      ],
      "execution_count": 0,
      "outputs": []
    },
    {
      "cell_type": "code",
      "metadata": {
        "id": "Oqybywc21rlA",
        "colab_type": "code",
        "outputId": "eeea257c-21d6-4c02-82a7-6b8775dbc53a",
        "colab": {
          "base_uri": "https://localhost:8080/",
          "height": 315
        }
      },
      "source": [
        "\n",
        "true_mu = 0.9\n",
        "#Genero 1000 tiradas, es un proceso de Bernoulli. Esto es el experimento.\n",
        "N = 10000\n",
        "tiradas = bernoulli.rvs(true_mu, size=N)\n",
        "\n",
        "print(tiradas)\n",
        "\n",
        "mu_threshold = 0.7\n",
        "\n",
        "mu, step = np.linspace(0,1,num=paso, retstep=True) #step es el espacio entre puntos\n",
        "X = tiradas[:N].sum()\n",
        "prior = norm.pdf(mu,0.5,0.1) #Esto es el prior evaluado en el vector mu\n",
        "verosimilitud=binom.pmf(X,N,mu)\n",
        "posterior = prior*verosimilitud\n",
        "evidencia = posterior.sum()*step\n",
        "posterior = posterior/evidencia #normalizamos para obtener el posterior\n",
        "#probabilidad de que p>p_threshold\n",
        "p=posterior[mu>mu_threshold].sum()*step\n",
        "\n",
        "plt.plot(mu,prior,'.', label='prior')\n",
        "plt.plot(mu,verosimilitud, label='verosimilitud')\n",
        "plt.plot(mu,posterior, label='posterior')\n",
        "plt.legend()\n",
        "plt.xlabel('$\\mu$')\n",
        "plt.show()\n",
        "print(p)"
      ],
      "execution_count": 0,
      "outputs": [
        {
          "output_type": "stream",
          "text": [
            "[1 1 1 ... 0 1 1]\n"
          ],
          "name": "stdout"
        },
        {
          "output_type": "display_data",
          "data": {
            "image/png": "[encoded data removed]",
            "text/plain": [
              "<Figure size 432x288 with 1 Axes>"
            ]
          },
          "metadata": {
            "tags": [],
            "needs_background": "light"
          }
        },
        {
          "output_type": "stream",
          "text": [
            "0.9999999999999998\n"
          ],
          "name": "stdout"
        }
      ]
    },
    {
      "cell_type": "code",
      "metadata": {
        "id": "WuJBGkDx4kAq",
        "colab_type": "code",
        "outputId": "bfdd7714-3c61-4e05-8c28-cf1f94330048",
        "colab": {
          "base_uri": "https://localhost:8080/",
          "height": 299
        }
      },
      "source": [
        "asd=inferencia_moneda(tiradas, seed=123)\n",
        "print(asd[0])\n",
        "\n",
        "plt.plot(mu,asd[1], label='posterior_norm')\n"
      ],
      "execution_count": 0,
      "outputs": [
        {
          "output_type": "stream",
          "text": [
            "0.541310137446409\n"
          ],
          "name": "stdout"
        },
        {
          "output_type": "execute_result",
          "data": {
            "text/plain": [
              "[<matplotlib.lines.Line2D at 0x7f4e15db5128>]"
            ]
          },
          "metadata": {
            "tags": []
          },
          "execution_count": 33
        },
        {
          "output_type": "display_data",
          "data": {
            "image/png": "[encoded data removed]",
            "text/plain": [
              "<Figure size 432x288 with 1 Axes>"
            ]
          },
          "metadata": {
            "tags": [],
            "needs_background": "light"
          }
        }
      ]
    },
    {
      "cell_type": "code",
      "metadata": {
        "colab_type": "code",
        "id": "-NY1kRNs1GnH",
        "colab": {}
      },
      "source": [
        "import numpy as np\n",
        "from scipy.stats import binom, norm\n",
        "\n",
        "def inferencia_moneda(tiradas, seed=123):\n",
        "    \"\"\"Realiza inferencia bayesiana en el parametro mu de una moneda.\n",
        "\n",
        "    Input:\n",
        "    tiradas -- Resultado de N tiradas\n",
        "    seed    -- Semilla para np.random (default=123)\n",
        "\n",
        "    Output:\n",
        "    p        -- probabilidad de que mu>0.7\n",
        "    posterior-- posterior de mu, shape=(100,)\n",
        "    \"\"\"\n",
        "    np.random.seed(seed)\n",
        "    mu, step = np.linspace(0,1,num=100, retstep=True) #step es el espacio entre puntos\n",
        "\n",
        "    #Numero de tiradas, y de veces que salio cara\n",
        "    N=len(tiradas)\n",
        "    X=np.sum(tiradas)\n",
        "\n",
        "    #Start\n",
        "    mu_threshold = 0.7\n",
        "    prior = norm.pdf(mu,0.5,0.1) #Esto es el prior evaluado en el vector mu\n",
        "    verosimilitud = binom.pmf(X,N,mu) #La verosimilitud evaluada en el vector mu\n",
        "    posterior = prior*verosimilitud #el posterior no normalizado\n",
        "    evidencia = evidence = posterior.sum()*step #evidencia o verosimilitud marginalizada\n",
        "    posterior = posterior/evidencia #normalizamos para obtener el posterior\n",
        "\n",
        "    p = posterior[mu>mu_threshold].sum()*step #Probabilidad de que mu > 0.7 \n",
        "    #Finish\n",
        "    assert len(posterior) == len(mu), \"Tamaño del posterior distinto al de mu\"\n",
        "    return p, np.array(posterior)\n",
        "\n"
      ],
      "execution_count": 0,
      "outputs": []
    },
    {
      "cell_type": "markdown",
      "metadata": {
        "colab_type": "text",
        "id": "koZhGjvgO4uo"
      },
      "source": [
        "## 3. Regresión Lineal"
      ]
    },
    {
      "cell_type": "markdown",
      "metadata": {
        "colab_type": "text",
        "id": "TLYPUIQrPMgk"
      },
      "source": [
        "Construye una función que dado un input (X_train, Y_train) realice un ajuste lineal de cuadrados mínimos, y con ello devuelva las predicciones para el input X_test como un vector Y_test.\n",
        "\n",
        "Por favor, utilice el siguiente signature. Se recomienda cambiar el código solamente entre los comentarios \"Start\" y \"Finish\". \n",
        "Si quiere probar cosas, siéntase libre de crear nuevas celdas de código, aunque estas no serán evaluadas.\n",
        "\n",
        "<b>Ayuda</b>: pueden usar la implementación de las ecuaciones normales que aparece en el notebook de [modelos lineales](05_ModelosLineales.ipynb) o las clases del módulo <tt>sklearn.linear_model</tt>."
      ]
    },
    {
      "cell_type": "code",
      "metadata": {
        "id": "QUyvgjww5szR",
        "colab_type": "code",
        "colab": {}
      },
      "source": [
        ""
      ],
      "execution_count": 0,
      "outputs": []
    },
    {
      "cell_type": "code",
      "metadata": {
        "id": "MRRAEHSJ71OH",
        "colab_type": "code",
        "colab": {}
      },
      "source": [
        ""
      ],
      "execution_count": 0,
      "outputs": []
    },
    {
      "cell_type": "code",
      "metadata": {
        "id": "0Z3QPuMK6Wlb",
        "colab_type": "code",
        "colab": {}
      },
      "source": [
        ""
      ],
      "execution_count": 0,
      "outputs": []
    },
    {
      "cell_type": "code",
      "metadata": {
        "id": "3FpE6Yss6rQb",
        "colab_type": "code",
        "colab": {}
      },
      "source": [
        ""
      ],
      "execution_count": 0,
      "outputs": []
    },
    {
      "cell_type": "code",
      "metadata": {
        "id": "4JO7bMnH_IVE",
        "colab_type": "code",
        "colab": {}
      },
      "source": [
        ""
      ],
      "execution_count": 0,
      "outputs": []
    },
    {
      "cell_type": "code",
      "metadata": {
        "id": "v-gmftxz_ZeQ",
        "colab_type": "code",
        "colab": {}
      },
      "source": [
        ""
      ],
      "execution_count": 0,
      "outputs": []
    },
    {
      "cell_type": "code",
      "metadata": {
        "id": "6QOehExVCEav",
        "colab_type": "code",
        "colab": {}
      },
      "source": [
        ""
      ],
      "execution_count": 0,
      "outputs": []
    },
    {
      "cell_type": "code",
      "metadata": {
        "id": "XjZJQA9dCU0M",
        "colab_type": "code",
        "colab": {}
      },
      "source": [
        "\n"
      ],
      "execution_count": 0,
      "outputs": []
    },
    {
      "cell_type": "code",
      "metadata": {
        "colab_type": "code",
        "id": "NavUqiDhPLx-",
        "colab": {}
      },
      "source": [
        "import numpy as np\n",
        "\n",
        "def ajuste_lineal(X_train, Y_train, X_test):\n",
        "    \"\"\"Calcula un ajuste lineal.\n",
        "\n",
        "    Input:\n",
        "    X_train -- datos de entrenamiento, shape=(N,1)\n",
        "    Y_train -- etiquetas de entrenamiento, shape=(N,1)\n",
        "    X_test  -- datos de testeo, shape=(N_test,1)\n",
        "\n",
        "    Output:\n",
        "    Y_test  -- prediccion de etiquetas para X_test, shape=(N_test,1)\n",
        "    \"\"\"\n",
        "\n",
        "    N=len(X_train)\n",
        "    N_test=len(X_test)\n",
        "    #Start\n",
        "    def rmse(t, tpred):\n",
        "      return np.sqrt(np.sum((tpred - t)**2) / len(tpred))\n",
        "\n",
        "    x=X_train\n",
        "    t=Y_train\n",
        "    x__=X_test\n",
        "    phi = np.hstack([x*0.0 + 1, x])\n",
        "\n",
        "    pp = np.dot(phi.T, phi)\n",
        "    # (2 x 80) . (80 x 2) ==> (2 x 2)\n",
        "\n",
        "    yy = np.dot(phi.T, t)\n",
        "    # (2 x 80) . (80 x 1) --> (2 x 1)\n",
        "\n",
        "    wml = np.linalg.solve(pp, yy)\n",
        "    print(wml)\n",
        "    #x__=np.linspace(0,2,100)\n",
        "    tpred_train = phi @ wml\n",
        "    print('El RMSE en el conjunto de training es: {:.3f}'.format(rmse(t, tpred_train)))\n",
        "    \n",
        "    t__=x__*wml[1]+wml[0]\n",
        "    plt.plot(data_train[:, 0], data_train[:, 1], '^r')\n",
        "    plt.plot(x__,t__,'ob')\n",
        "    plt.xlabel('X')\n",
        "    plt.ylabel('t')\n",
        "\n",
        "    \n",
        "  \n",
        "    #ahora guardamos los resultados en esta variable\n",
        "    Y_test = t__\n",
        "    #Finish\n",
        "    assert len(Y_test) == len(X_test), \"Tamaño de Y_test distinto al de X_test\"\n",
        "    return np.array(Y_test)"
      ],
      "execution_count": 0,
      "outputs": []
    },
    {
      "cell_type": "code",
      "metadata": {
        "id": "s8KFoEN5Fuf6",
        "colab_type": "code",
        "colab": {
          "base_uri": "https://localhost:8080/",
          "height": 330
        },
        "outputId": "dee91cee-09fa-4107-e9ee-c66ed8795f5a"
      },
      "source": [
        "Y_test=ajuste_lineal(x_test, t_test, x__)"
      ],
      "execution_count": 52,
      "outputs": [
        {
          "output_type": "stream",
          "text": [
            "[[4.12352093]\n",
            " [5.30184876]]\n",
            "El RMSE en el conjunto de training es: 0.997\n"
          ],
          "name": "stdout"
        },
        {
          "output_type": "display_data",
          "data": {
            "image/png": "[encoded data removed]",
            "text/plain": [
              "<Figure size 432x288 with 1 Axes>"
            ]
          },
          "metadata": {
            "tags": [],
            "needs_background": "light"
          }
        }
      ]
    },
    {
      "cell_type": "code",
      "metadata": {
        "id": "WpTeTzW1F4yk",
        "colab_type": "code",
        "colab": {}
      },
      "source": [
        ""
      ],
      "execution_count": 0,
      "outputs": []
    }
  ]
}