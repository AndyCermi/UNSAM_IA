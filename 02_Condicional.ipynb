{
 "cells": [
  {
   "cell_type": "code",
   "execution_count": null,
   "metadata": {},
   "outputs": [],
   "source": [
    "# Por si alguien corre en python2\n",
    "from __future__ import division\n",
    "\n",
    "# Preparamos todo para correr\n",
    "import numpy as np\n",
    "from math import sqrt\n",
    "from matplotlib import pylab as plt"
   ]
  },
  {
   "cell_type": "markdown",
   "metadata": {},
   "source": [
    "# *Probabilidades condicionales y el teorema de Bayes*\n",
    "\n",
    "### Un ejemplo\n",
    "\n",
    "Una enfermedad genética rara que afecta al 0.1% de la población de un país. Para diagnosticarla, existe un análisis clínico que detecta la enfermedad en el 99% de los casos en los que el paciente la padece, y tiene un 1% de falsos positivos.\n",
    "\n",
    "Un paciente recibe un resultado positivo del análisis clínico. \n",
    "\n",
    "<ul>\n",
    "    <li>¿Qué probabilidad hay de que la persona padezca la enfermedad?</li>\n",
    "    <li>¿Cuál sería el próximo paso natural?</li>\n",
    "</ul>\n",
    "\n",
    "*****"
   ]
  },
  {
   "cell_type": "markdown",
   "metadata": {},
   "source": [
    "En primer lugar, pasemos a probabilidades los datos que tenemos:\n",
    "\n",
    "<ol>\n",
    "    <li> La probabilidad de tener la enfermedad es 1%; $P(E) = 0.01$</li>\n",
    "    <li> Si un paciente tiene la enfermedad, el análisis da positivo en el 99% de los casos; $P(D | E) = 0.99$</li>\n",
    "    <li> El porcentaje de falsos positivos del diagnóstico es 0.1%; $P(D | \\bar{E}) = 0.01$</li>\n",
    "    </ol>\n",
    "    \n",
    "Lo que nos preguntamos es cuál es la probabilidad de que el paciente tenga la enfermedad, dado que recibió un resultado positivo. Buscamos entonces $P(E | D)$. <b>¿Cómo se escribe esto en términos de las cantidades que conocemos?</b>"
   ]
  },
  {
   "cell_type": "markdown",
   "metadata": {},
   "source": [
    "\n",
    "\n",
    "\n",
    "\n",
    "\n",
    "\n",
    "\n",
    "\n",
    "\n",
    "\n",
    "\n",
    "\n",
    "\n",
    "\n",
    "\n",
    "\n",
    "\n",
    "\n",
    "\n",
    "\n"
   ]
  },
  {
   "cell_type": "markdown",
   "metadata": {},
   "source": [
    "La respuesta se obtiene a partir del teorema de Bayes:\n",
    "\n",
    "$$\n",
    "P(E | D) = \\frac{P(D | E)\\,P(E)}{P(D)}\n",
    "$$\n",
    "\n",
    "Muy bien, pero nos falta conocer $P(D)$; para eso, usamos la regla de la suma:\n",
    "\n",
    "$$\n",
    "P(D) = P(D | E)\\,P(E) + P(D | \\bar{E}) P(\\bar{E})\n",
    "$$\n",
    "\n",
    "Poniendo todo junto:\n",
    "\n",
    "$$\n",
    "P(E | D) = \\frac{P(D | E)\\,P(E)}{P(D | E)\\,P(E) + P(D | \\bar{E}) P(\\bar{E})}\n",
    "$$\n",
    "\n",
    "Y ahora sí podemos calcular."
   ]
  },
  {
   "cell_type": "code",
   "execution_count": null,
   "metadata": {},
   "outputs": [],
   "source": [
    "#Escribo las diferentes probabilidades\n",
    "pE = 0.001\n",
    "pDE = 0.99\n",
    "pDnE = 0.01\n",
    "\n",
    "pED = pDE * pE / (pDE * pE + pDnE * (1 - pE))\n",
    "\n",
    "print('La probabilidad de que el paciente tenga la enfermedad es {:.4f}'.format(pED))"
   ]
  },
  {
   "cell_type": "code",
   "execution_count": null,
   "metadata": {},
   "outputs": [],
   "source": []
  }
 ],
 "metadata": {
  "kernelspec": {
   "display_name": "Python 3",
   "language": "python",
   "name": "python3"
  },
  "language_info": {
   "codemirror_mode": {
    "name": "ipython",
    "version": 3
   },
   "file_extension": ".py",
   "mimetype": "text/x-python",
   "name": "python",
   "nbconvert_exporter": "python",
   "pygments_lexer": "ipython3",
   "version": "3.6.4"
  }
 },
 "nbformat": 4,
 "nbformat_minor": 2
}
